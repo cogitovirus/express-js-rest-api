{
 "cells": [
  {
   "cell_type": "markdown",
   "id": "d1078424",
   "metadata": {},
   "source": [
    "Enterpise GenAI Adoption Impact dataset"
   ]
  },
  {
   "cell_type": "code",
   "execution_count": 3,
   "id": "e7cb534d",
   "metadata": {},
   "outputs": [
    {
     "data": {
      "text/plain": [
       "(100000, 10)"
      ]
     },
     "execution_count": 3,
     "metadata": {},
     "output_type": "execute_result"
    }
   ],
   "source": [
    "import pandas as pd\n",
    "df = pd.read_csv(\"Enterprise_GenAI_Adoption_Impact.csv\")\n",
    "df.shape"
   ]
  },
  {
   "cell_type": "code",
   "execution_count": 8,
   "id": "2d9b1591",
   "metadata": {},
   "outputs": [
    {
     "data": {
      "text/plain": [
       "Index(['Company Name', 'Industry', 'Country', 'GenAI Tool', 'Adoption Year',\n",
       "       'Number of Employees Impacted', 'New Roles Created',\n",
       "       'Training Hours Provided', 'Productivity Change (%)',\n",
       "       'Employee Sentiment'],\n",
       "      dtype='object')"
      ]
     },
     "execution_count": 8,
     "metadata": {},
     "output_type": "execute_result"
    }
   ],
   "source": [
    "df.columns"
   ]
  },
  {
   "cell_type": "code",
   "execution_count": 5,
   "id": "c1ff5c70",
   "metadata": {},
   "outputs": [
    {
     "data": {
      "text/html": [
       "<div>\n",
       "<style scoped>\n",
       "    .dataframe tbody tr th:only-of-type {\n",
       "        vertical-align: middle;\n",
       "    }\n",
       "\n",
       "    .dataframe tbody tr th {\n",
       "        vertical-align: top;\n",
       "    }\n",
       "\n",
       "    .dataframe thead th {\n",
       "        text-align: right;\n",
       "    }\n",
       "</style>\n",
       "<table border=\"1\" class=\"dataframe\">\n",
       "  <thead>\n",
       "    <tr style=\"text-align: right;\">\n",
       "      <th></th>\n",
       "      <th>Company Name</th>\n",
       "      <th>Industry</th>\n",
       "      <th>Country</th>\n",
       "      <th>GenAI Tool</th>\n",
       "      <th>Adoption Year</th>\n",
       "      <th>Number of Employees Impacted</th>\n",
       "      <th>New Roles Created</th>\n",
       "      <th>Training Hours Provided</th>\n",
       "      <th>Productivity Change (%)</th>\n",
       "      <th>Employee Sentiment</th>\n",
       "    </tr>\n",
       "  </thead>\n",
       "  <tbody>\n",
       "    <tr>\n",
       "      <th>0</th>\n",
       "      <td>Davis LLC Pvt. Ltd.</td>\n",
       "      <td>Healthcare</td>\n",
       "      <td>USA</td>\n",
       "      <td>Mixtral</td>\n",
       "      <td>2022</td>\n",
       "      <td>5277</td>\n",
       "      <td>8</td>\n",
       "      <td>657</td>\n",
       "      <td>25.2</td>\n",
       "      <td>Productivity increased, but there's anxiety ab...</td>\n",
       "    </tr>\n",
       "    <tr>\n",
       "      <th>1</th>\n",
       "      <td>Roberts, Holland and Bradshaw Pvt. Ltd.</td>\n",
       "      <td>Telecom</td>\n",
       "      <td>South Africa</td>\n",
       "      <td>Claude</td>\n",
       "      <td>2023</td>\n",
       "      <td>18762</td>\n",
       "      <td>17</td>\n",
       "      <td>23021</td>\n",
       "      <td>27.5</td>\n",
       "      <td>We now finish tasks faster, but some older emp...</td>\n",
       "    </tr>\n",
       "    <tr>\n",
       "      <th>2</th>\n",
       "      <td>Roman Inc Pvt. Ltd.</td>\n",
       "      <td>Advertising</td>\n",
       "      <td>India</td>\n",
       "      <td>Gemini</td>\n",
       "      <td>2023</td>\n",
       "      <td>11307</td>\n",
       "      <td>17</td>\n",
       "      <td>4680</td>\n",
       "      <td>11.5</td>\n",
       "      <td>Productivity increased, but there's anxiety ab...</td>\n",
       "    </tr>\n",
       "    <tr>\n",
       "      <th>3</th>\n",
       "      <td>Nguyen-Strickland Pvt. Ltd.</td>\n",
       "      <td>Technology</td>\n",
       "      <td>UK</td>\n",
       "      <td>Groq</td>\n",
       "      <td>2023</td>\n",
       "      <td>18834</td>\n",
       "      <td>12</td>\n",
       "      <td>1750</td>\n",
       "      <td>7.0</td>\n",
       "      <td>AI helped me reduce repetitive tasks, but lear...</td>\n",
       "    </tr>\n",
       "    <tr>\n",
       "      <th>4</th>\n",
       "      <td>Jackson PLC Pvt. Ltd.</td>\n",
       "      <td>Hospitality</td>\n",
       "      <td>UK</td>\n",
       "      <td>LLaMA</td>\n",
       "      <td>2024</td>\n",
       "      <td>8364</td>\n",
       "      <td>22</td>\n",
       "      <td>3925</td>\n",
       "      <td>2.5</td>\n",
       "      <td>Job roles have shifted a lot, which is both go...</td>\n",
       "    </tr>\n",
       "    <tr>\n",
       "      <th>5</th>\n",
       "      <td>Forbes Ltd Pvt. Ltd.</td>\n",
       "      <td>Entertainment</td>\n",
       "      <td>Switzerland</td>\n",
       "      <td>Gemini</td>\n",
       "      <td>2022</td>\n",
       "      <td>16082</td>\n",
       "      <td>16</td>\n",
       "      <td>11485</td>\n",
       "      <td>19.9</td>\n",
       "      <td>New roles are exciting; transition was smoothe...</td>\n",
       "    </tr>\n",
       "    <tr>\n",
       "      <th>6</th>\n",
       "      <td>Barker, Williams and Lynch Pvt. Ltd.</td>\n",
       "      <td>Telecom</td>\n",
       "      <td>South Africa</td>\n",
       "      <td>Mixtral</td>\n",
       "      <td>2022</td>\n",
       "      <td>994</td>\n",
       "      <td>11</td>\n",
       "      <td>2593</td>\n",
       "      <td>6.6</td>\n",
       "      <td>Job roles have shifted a lot, which is both go...</td>\n",
       "    </tr>\n",
       "    <tr>\n",
       "      <th>7</th>\n",
       "      <td>Wheeler, Warner and Brown Pvt. Ltd.</td>\n",
       "      <td>Advertising</td>\n",
       "      <td>USA</td>\n",
       "      <td>Groq</td>\n",
       "      <td>2022</td>\n",
       "      <td>16429</td>\n",
       "      <td>16</td>\n",
       "      <td>11692</td>\n",
       "      <td>20.4</td>\n",
       "      <td>Collaboration improved; documentation and meet...</td>\n",
       "    </tr>\n",
       "    <tr>\n",
       "      <th>8</th>\n",
       "      <td>Ramirez, Wells and Cochran Pvt. Ltd.</td>\n",
       "      <td>Technology</td>\n",
       "      <td>South Korea</td>\n",
       "      <td>Gemini</td>\n",
       "      <td>2022</td>\n",
       "      <td>12952</td>\n",
       "      <td>7</td>\n",
       "      <td>22484</td>\n",
       "      <td>29.5</td>\n",
       "      <td>There's concern that AI will replace some of u...</td>\n",
       "    </tr>\n",
       "    <tr>\n",
       "      <th>9</th>\n",
       "      <td>Morris Inc Pvt. Ltd.</td>\n",
       "      <td>Legal Services</td>\n",
       "      <td>Switzerland</td>\n",
       "      <td>ChatGPT</td>\n",
       "      <td>2022</td>\n",
       "      <td>4144</td>\n",
       "      <td>24</td>\n",
       "      <td>20689</td>\n",
       "      <td>33.3</td>\n",
       "      <td>I love using AI—it makes my job easier and mor...</td>\n",
       "    </tr>\n",
       "  </tbody>\n",
       "</table>\n",
       "</div>"
      ],
      "text/plain": [
       "                              Company Name        Industry       Country  \\\n",
       "0                      Davis LLC Pvt. Ltd.      Healthcare           USA   \n",
       "1  Roberts, Holland and Bradshaw Pvt. Ltd.         Telecom  South Africa   \n",
       "2                      Roman Inc Pvt. Ltd.     Advertising         India   \n",
       "3              Nguyen-Strickland Pvt. Ltd.      Technology            UK   \n",
       "4                    Jackson PLC Pvt. Ltd.     Hospitality            UK   \n",
       "5                     Forbes Ltd Pvt. Ltd.   Entertainment   Switzerland   \n",
       "6     Barker, Williams and Lynch Pvt. Ltd.         Telecom  South Africa   \n",
       "7      Wheeler, Warner and Brown Pvt. Ltd.     Advertising           USA   \n",
       "8     Ramirez, Wells and Cochran Pvt. Ltd.      Technology   South Korea   \n",
       "9                     Morris Inc Pvt. Ltd.  Legal Services   Switzerland   \n",
       "\n",
       "  GenAI Tool  Adoption Year  Number of Employees Impacted  New Roles Created  \\\n",
       "0    Mixtral           2022                          5277                  8   \n",
       "1     Claude           2023                         18762                 17   \n",
       "2     Gemini           2023                         11307                 17   \n",
       "3       Groq           2023                         18834                 12   \n",
       "4      LLaMA           2024                          8364                 22   \n",
       "5     Gemini           2022                         16082                 16   \n",
       "6    Mixtral           2022                           994                 11   \n",
       "7       Groq           2022                         16429                 16   \n",
       "8     Gemini           2022                         12952                  7   \n",
       "9    ChatGPT           2022                          4144                 24   \n",
       "\n",
       "   Training Hours Provided  Productivity Change (%)  \\\n",
       "0                      657                     25.2   \n",
       "1                    23021                     27.5   \n",
       "2                     4680                     11.5   \n",
       "3                     1750                      7.0   \n",
       "4                     3925                      2.5   \n",
       "5                    11485                     19.9   \n",
       "6                     2593                      6.6   \n",
       "7                    11692                     20.4   \n",
       "8                    22484                     29.5   \n",
       "9                    20689                     33.3   \n",
       "\n",
       "                                  Employee Sentiment  \n",
       "0  Productivity increased, but there's anxiety ab...  \n",
       "1  We now finish tasks faster, but some older emp...  \n",
       "2  Productivity increased, but there's anxiety ab...  \n",
       "3  AI helped me reduce repetitive tasks, but lear...  \n",
       "4  Job roles have shifted a lot, which is both go...  \n",
       "5  New roles are exciting; transition was smoothe...  \n",
       "6  Job roles have shifted a lot, which is both go...  \n",
       "7  Collaboration improved; documentation and meet...  \n",
       "8  There's concern that AI will replace some of u...  \n",
       "9  I love using AI—it makes my job easier and mor...  "
      ]
     },
     "execution_count": 5,
     "metadata": {},
     "output_type": "execute_result"
    }
   ],
   "source": [
    "df.head(10)"
   ]
  },
  {
   "cell_type": "code",
   "execution_count": 7,
   "id": "23aa14f0",
   "metadata": {},
   "outputs": [
    {
     "data": {
      "text/plain": [
       "GenAI Tool\n",
       "Gemini     16885\n",
       "Groq       16748\n",
       "LLaMA      16676\n",
       "Mixtral    16667\n",
       "ChatGPT    16663\n",
       "Claude     16361\n",
       "Name: count, dtype: int64"
      ]
     },
     "execution_count": 7,
     "metadata": {},
     "output_type": "execute_result"
    }
   ],
   "source": [
    "df[\"GenAI Tool\"].value_counts()"
   ]
  },
  {
   "cell_type": "code",
   "execution_count": null,
   "id": "0c7087d6",
   "metadata": {},
   "outputs": [
    {
     "data": {
      "text/plain": [
       "array(['Healthcare', 'Telecom', 'Advertising', 'Technology',\n",
       "       'Hospitality', 'Entertainment', 'Legal Services', 'Transportation',\n",
       "       'Retail', 'Utilities', 'Finance', 'Manufacturing', 'Education',\n",
       "       'Defense'], dtype=object)"
      ]
     },
     "execution_count": 4,
     "metadata": {},
     "output_type": "execute_result"
    }
   ],
   "source": [
    "df[\"Industry\"].unique()"
   ]
  },
  {
   "cell_type": "code",
   "execution_count": null,
   "id": "a2a01d9e",
   "metadata": {},
   "outputs": [],
   "source": [
    "df.groupby(\"Industry\")[\"Productivity Change (%)\"].mean().sort_values(ascending=False).head()\n"
   ]
  }
 ],
 "metadata": {
  "kernelspec": {
   "display_name": "Python 3",
   "language": "python",
   "name": "python3"
  },
  "language_info": {
   "codemirror_mode": {
    "name": "ipython",
    "version": 3
   },
   "file_extension": ".py",
   "mimetype": "text/x-python",
   "name": "python",
   "nbconvert_exporter": "python",
   "pygments_lexer": "ipython3",
   "version": "3.10.12"
  }
 },
 "nbformat": 4,
 "nbformat_minor": 5
}
